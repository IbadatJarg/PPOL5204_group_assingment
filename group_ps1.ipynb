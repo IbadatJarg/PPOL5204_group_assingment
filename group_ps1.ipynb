{
 "cells": [
  {
   "cell_type": "markdown",
   "metadata": {},
   "source": [
    "<center>\n",
    "\n",
    "##### Group Assignment I\n",
    "\n",
    "<center>\n",
    "\n",
    "<center>\n",
    "\n",
    "Ibadat Jarg, Emily Zhao, Xiao Xu\n",
    "\n",
    "<center>"
   ]
  }
 ],
 "metadata": {
  "language_info": {
   "name": "python"
  }
 },
 "nbformat": 4,
 "nbformat_minor": 2
}
