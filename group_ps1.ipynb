{
 "cells": [
  {
   "cell_type": "markdown",
   "metadata": {},
   "source": [
    "<center>\n",
    "\n",
    "# Group Assignment I\n",
    "\n",
    "<center>\n",
    "\n",
    "<center>\n",
    "\n",
    "Ibadat Jarg, Emily Zhao, Xiao Xu\n",
    "\n",
    "<center>"
   ]
  },
  {
   "cell_type": "code",
   "execution_count": null,
   "metadata": {},
   "outputs": [
    {
     "name": "stdout",
     "output_type": "stream",
     "text": [
      "Collecting ucimlrepo\n",
      "  Downloading ucimlrepo-0.0.7-py3-none-any.whl.metadata (5.5 kB)\n",
      "Requirement already satisfied: pandas>=1.0.0 in c:\\users\\ibadat\\appdata\\local\\programs\\python\\python312\\lib\\site-packages (from ucimlrepo) (2.2.3)\n",
      "Requirement already satisfied: certifi>=2020.12.5 in c:\\users\\ibadat\\appdata\\local\\programs\\python\\python312\\lib\\site-packages (from ucimlrepo) (2024.8.30)\n",
      "Requirement already satisfied: numpy>=1.26.0 in c:\\users\\ibadat\\appdata\\local\\programs\\python\\python312\\lib\\site-packages (from pandas>=1.0.0->ucimlrepo) (1.26.4)\n",
      "Requirement already satisfied: python-dateutil>=2.8.2 in c:\\users\\ibadat\\appdata\\roaming\\python\\python312\\site-packages (from pandas>=1.0.0->ucimlrepo) (2.9.0.post0)\n",
      "Requirement already satisfied: pytz>=2020.1 in c:\\users\\ibadat\\appdata\\local\\programs\\python\\python312\\lib\\site-packages (from pandas>=1.0.0->ucimlrepo) (2024.2)\n",
      "Requirement already satisfied: tzdata>=2022.7 in c:\\users\\ibadat\\appdata\\local\\programs\\python\\python312\\lib\\site-packages (from pandas>=1.0.0->ucimlrepo) (2024.2)\n",
      "Requirement already satisfied: six>=1.5 in c:\\users\\ibadat\\appdata\\roaming\\python\\python312\\site-packages (from python-dateutil>=2.8.2->pandas>=1.0.0->ucimlrepo) (1.16.0)\n",
      "Downloading ucimlrepo-0.0.7-py3-none-any.whl (8.0 kB)\n",
      "Installing collected packages: ucimlrepo\n",
      "Successfully installed ucimlrepo-0.0.7\n",
      "Note: you may need to restart the kernel to use updated packages.\n"
     ]
    },
    {
     "name": "stderr",
     "output_type": "stream",
     "text": [
      "\n",
      "[notice] A new release of pip is available: 24.0 -> 25.0.1\n",
      "[notice] To update, run: python.exe -m pip install --upgrade pip\n"
     ]
    }
   ],
   "source": [
    "#Loading Relevant libraries\n",
    "import pandas as pd\n",
    "import numpy as np\n",
    "import matplotlib.pyplot as plt\n",
    "import sklearn\n",
    "from sklearn.model_selection import train_test_split\n",
    "from sklearn.linear_model import LinearRegression\n",
    "from sklearn.metrics import mean_squared_error\n",
    "from sklearn.metrics import r2_score\n",
    "from sklearn.preprocessing import StandardScaler\n",
    "#%pip install ucimlrepo #installing the ucimlrepo package to load the dataset\n"
   ]
  },
  {
   "cell_type": "markdown",
   "metadata": {},
   "source": [
    "## Question 1 – Communities & Crime"
   ]
  },
  {
   "cell_type": "markdown",
   "metadata": {},
   "source": [
    "For this question you will use the “Communities & Crime” dataset found at the UCI repository\n",
    "(here). Your goal is to develop a model that best predicts “ViolentCrimesPerPop”.\n",
    "\n",
    "https://archive.ics.uci.edu/dataset/183/communities+and+crime"
   ]
  },
  {
   "cell_type": "markdown",
   "metadata": {},
   "source": [
    "### Task A: Dataset Curation and Preprocessing"
   ]
  },
  {
   "cell_type": "markdown",
   "metadata": {},
   "source": [
    "#### 1.\n",
    "Thoroughly examine the dataset. Familiarize yourselves with the 3 data origins. Be aware\n",
    "of potential limitations and/or biases. Discuss any potential shortcomings you may have\n",
    "detected."
   ]
  },
  {
   "cell_type": "code",
   "execution_count": 6,
   "metadata": {},
   "outputs": [
    {
     "name": "stdout",
     "output_type": "stream",
     "text": [
      "                    name     role         type demographic description units  \\\n",
      "0                  state  Feature      Integer        None        None  None   \n",
      "1                 county  Feature      Integer        None        None  None   \n",
      "2              community  Feature      Integer        None        None  None   \n",
      "3          communityname  Feature  Categorical        None        None  None   \n",
      "4                   fold  Feature      Integer        None        None  None   \n",
      "..                   ...      ...          ...         ...         ...   ...   \n",
      "123  LemasPctPolicOnPatr  Feature   Continuous        None        None  None   \n",
      "124  LemasGangUnitDeploy  Feature      Integer        None        None  None   \n",
      "125  LemasPctOfficDrugUn  Feature      Integer        None        None  None   \n",
      "126      PolicBudgPerPop  Feature      Integer        None        None  None   \n",
      "127  ViolentCrimesPerPop   Target   Continuous        None        None  None   \n",
      "\n",
      "    missing_values  \n",
      "0               no  \n",
      "1              yes  \n",
      "2              yes  \n",
      "3               no  \n",
      "4               no  \n",
      "..             ...  \n",
      "123            yes  \n",
      "124            yes  \n",
      "125             no  \n",
      "126            yes  \n",
      "127             no  \n",
      "\n",
      "[128 rows x 7 columns]\n"
     ]
    }
   ],
   "source": [
    "#Importing the data into the notebook\n",
    "from ucimlrepo import fetch_ucirepo \n",
    "  \n",
    "# fetch dataset \n",
    "communities_and_crime = fetch_ucirepo(id=183) \n",
    "  \n",
    "# data (as pandas dataframes) \n",
    "X = communities_and_crime.data.features \n",
    "y = communities_and_crime.data.targets \n",
    "  \n",
    "# variable information \n",
    "print(communities_and_crime.variables) \n"
   ]
  },
  {
   "cell_type": "markdown",
   "metadata": {},
   "source": [
    "#### 2.\n",
    "Implement and explain the preprocessing steps needed for this dataset, including handling\n",
    "missing values, outlier detection and treatment, and feature scaling (if necessary), among any\n",
    "additional preprocessing step you deem fit. Justify your choices."
   ]
  },
  {
   "cell_type": "markdown",
   "metadata": {},
   "source": [
    "#### 3.\n",
    "Perform feature engineering to create at least 3 new features and justify their potential impact\n",
    "on a regression model’s performance. (Feel free to create polynomials and/or interaction\n",
    "terms, as long as you justify your choices.)"
   ]
  },
  {
   "cell_type": "markdown",
   "metadata": {},
   "source": [
    "#### 4.\n",
    "Curate the processed data to the best of your abilities. Include graphs, plots, and descriptive\n",
    "stats. Assume that your audience is highly technical and possesses domain knowledge."
   ]
  },
  {
   "cell_type": "markdown",
   "metadata": {},
   "source": [
    "### Task B: Regression Model Development and Evaluation"
   ]
  },
  {
   "cell_type": "markdown",
   "metadata": {},
   "source": [
    "\n",
    "#### 1. \n",
    "Choose a model suitable for the dataset and task (remember: the initial goal is to predict\n",
    "“ViolentCrimesPerPop”). Justify your selection based on the characteristics of the data and\n",
    "your theoretical insights. Experiment with different model specifications. Choose one that is\n",
    "best suited for your goal. Explain your selection in detail. (Tip: you might need to consider\n",
    "including regularization functions.)\n",
    "\n"
   ]
  },
  {
   "cell_type": "markdown",
   "metadata": {},
   "source": [
    "\n",
    "#### 2. \n",
    "Discreticize the target as you see fit (either binary or trichotomous). Justify your decision.\n",
    "Fit at least two distinct classifiers. Choose the one that performs, in your opinion, best on\n",
    "these data.\n",
    "\n"
   ]
  },
  {
   "cell_type": "markdown",
   "metadata": {},
   "source": [
    "\n",
    "#### 3. \n",
    "Implement the selected regression and classification models, and perform any necessary hyper-\n",
    "parameter tuning. Discuss the tuning process and its impact on model performance. Assess\n",
    "your models’ overall performance.\n"
   ]
  },
  {
   "cell_type": "markdown",
   "metadata": {},
   "source": [
    "\n",
    "#### 4. \n",
    "Evaluate the models using appropriate metrics, considering both their fit and the inverse\n",
    "variance/bias relationship. Pick your overall favorite model. Discuss the trade-offs involved\n",
    "and your ultimate model selection and preference."
   ]
  },
  {
   "cell_type": "markdown",
   "metadata": {},
   "source": [
    "### Task C: Methodological & Substantive Implications\n",
    "\n"
   ]
  },
  {
   "cell_type": "markdown",
   "metadata": {},
   "source": [
    "\n",
    "#### 1. \n",
    "Now that the training and evaluation phase is complete, discuss the challenges you encoun-\n",
    "tered during the first two Tasks. Are you overall satisfied with your final product? Justify\n",
    "your answer.\n",
    "\n"
   ]
  },
  {
   "cell_type": "markdown",
   "metadata": {},
   "source": [
    "\n",
    "#### 2. \n",
    "What are some key advantages and disadvantages of your approach?\n",
    "\n"
   ]
  },
  {
   "cell_type": "markdown",
   "metadata": {},
   "source": [
    "\n",
    "#### 3. \n",
    "If you had the resources, how would you modify this study to the current sociopolitical\n",
    "environment?\n",
    "\n"
   ]
  },
  {
   "cell_type": "markdown",
   "metadata": {},
   "source": [
    "\n",
    "#### 4. \n",
    "How would you deploy or implement your model(s)? Any reservations or words of caution\n",
    "regarding deployment? How should your model(s) be used in the context of your analysis?\n",
    "\n"
   ]
  },
  {
   "cell_type": "markdown",
   "metadata": {},
   "source": [
    "\n",
    "#### 5. \n",
    "Offer your opinions on bias, ethical considerations, and algorithmic justice. What are some\n",
    "of the pitfalls you identified while performing this study?"
   ]
  },
  {
   "cell_type": "markdown",
   "metadata": {},
   "source": [
    "## Question 2 - Tezpur University Android Malware Dataset"
   ]
  },
  {
   "cell_type": "markdown",
   "metadata": {},
   "source": [
    "For this question you will use the “Tezpur University Android Malware Dataset” dataset found at\n",
    "the UCI repository (here). Your goal is to develop a model that best predicts the target feature\n",
    "“Label”.\n",
    "https://archive.ics.uci.edu/dataset/855/tuandromd+(tezpur+university+android+malware+dataset)"
   ]
  },
  {
   "cell_type": "markdown",
   "metadata": {},
   "source": [
    "### Task A: Dataset Curation and Preprocessing\n"
   ]
  },
  {
   "cell_type": "markdown",
   "metadata": {},
   "source": [
    "\n",
    "#### 1.\n",
    " Describe and implement preprocessing steps specific to this problem, including strategies\n",
    "for handling imbalanced classes, encoding categorical variables, and any data transformation\n",
    "techniques applied.\n"
   ]
  },
  {
   "cell_type": "markdown",
   "metadata": {},
   "source": [
    "\n",
    "#### 2.\n",
    " Conduct exploratory data analysis (EDA) to uncover insights related to class distributions,\n",
    "feature correlations, and potential predictors of interest (Tip: consider applying PCA). Sum-\n",
    "marize key findings that could influence model selection and tuning.\n"
   ]
  },
  {
   "cell_type": "markdown",
   "metadata": {},
   "source": [
    "\n",
    "#### 3.\n",
    " Outline and justify a strategy for splitting the dataset into training, validation, and test sets,\n",
    "considering any potential class imbalance and the dataset’s characteristics.\n"
   ]
  },
  {
   "cell_type": "markdown",
   "metadata": {},
   "source": [
    "\n",
    "### Task B: Classification Techniques & Analysis\n"
   ]
  },
  {
   "cell_type": "markdown",
   "metadata": {},
   "source": [
    "\n",
    "### 1.\n",
    " Choose two classification algorithms suitable for the dataset and task. Justify your selection\n",
    "based on the characteristics of the dataset and the theoretical advantages of the algorithms.\n"
   ]
  },
  {
   "cell_type": "markdown",
   "metadata": {},
   "source": [
    "\n",
    "### 2.\n",
    " Experiment with different model specifications and complexity levels. For each model, con-\n",
    "duct a thorough hyperparameter optimization process. Explain the reasons behind the 2\n",
    "chosen models (one for each algorithm).\n"
   ]
  },
  {
   "cell_type": "markdown",
   "metadata": {},
   "source": [
    "\n",
    "### 3.\n",
    " Evaluate the performance of each model on the test set using a set of metrics appropriate\n",
    "for classification problems (e.g., precision, recall, F1-score, AUC-ROC). Provide a confusion\n",
    "matrix. Discuss the results and any discrepancies observed between the models. Discuss\n",
    "whether your goal requires a metric-specific focus (e.g. recall over precision etc.) and detail\n",
    "your steps to satisfying it.\n"
   ]
  },
  {
   "cell_type": "markdown",
   "metadata": {},
   "source": [
    "\n",
    "### 4.\n",
    " Implement at least one technique for model interpretability. Discuss how this interpretability\n",
    "aids in understanding the model’s decision-making process and its implications for the real-\n",
    "world problem you’re addressing.1\n"
   ]
  },
  {
   "cell_type": "markdown",
   "metadata": {},
   "source": [
    "\n",
    "### 5.\n",
    " Discuss your overall findings. Include a section on the challenges you encountered and the\n",
    "steps you took to overcome those. How ready are your models for deployment?\n"
   ]
  }
 ],
 "metadata": {
  "kernelspec": {
   "display_name": "Python 3",
   "language": "python",
   "name": "python3"
  },
  "language_info": {
   "codemirror_mode": {
    "name": "ipython",
    "version": 3
   },
   "file_extension": ".py",
   "mimetype": "text/x-python",
   "name": "python",
   "nbconvert_exporter": "python",
   "pygments_lexer": "ipython3",
   "version": "3.12.3"
  }
 },
 "nbformat": 4,
 "nbformat_minor": 2
}
